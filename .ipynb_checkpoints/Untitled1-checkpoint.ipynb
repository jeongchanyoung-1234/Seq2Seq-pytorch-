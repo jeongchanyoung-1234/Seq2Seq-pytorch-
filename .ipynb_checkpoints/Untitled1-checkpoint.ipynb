{
 "cells": [
  {
   "cell_type": "code",
   "execution_count": 72,
   "metadata": {},
   "outputs": [],
   "source": [
    "import re\n",
    "\n",
    "import pandas as pd\n",
    "\n",
    "\n",
    "with open('./data/date.txt', 'r', -1, 'utf-8') as f:\n",
    "   data = f.readlines()\n",
    "\n",
    "src, tgt = [], []\n",
    "for i in range(len(data)):\n",
    "    idx = data[i].find('_')\n",
    "    src.append(\n",
    "        re.sub(' {1,}', \n",
    "               '/', \n",
    "               re.sub('[^a-zA-Z0-9]', \n",
    "                      ' ', \n",
    "                      data[i][:idx].strip().lower())\n",
    "              )\n",
    "    )\n",
    "    tgt.append(\n",
    "        re.sub('_', \n",
    "               '_ ', \n",
    "               re.sub('[^a-zA-Z0-9_]', \n",
    "                      '/', \n",
    "                      data[i][idx:].strip()\n",
    "                     )\n",
    "              )\n",
    "    )\n",
    "    \n",
    "df = pd.DataFrame({'src': src, 'tgt': tgt})\n",
    "df['src'] = df['src'].map(lambda x: ' '.join(list(x)))\n",
    "df['tgt'] = df['tgt'].map(lambda x: ' '.join(list(x)))\n",
    "df.to_csv('./data/date.chr.csv', index=False, encoding='utf-8')"
   ]
  }
 ],
 "metadata": {
  "kernelspec": {
   "display_name": "Python 3",
   "language": "python",
   "name": "python3"
  },
  "language_info": {
   "codemirror_mode": {
    "name": "ipython",
    "version": 3
   },
   "file_extension": ".py",
   "mimetype": "text/x-python",
   "name": "python",
   "nbconvert_exporter": "python",
   "pygments_lexer": "ipython3",
   "version": "3.8.5"
  }
 },
 "nbformat": 4,
 "nbformat_minor": 4
}
